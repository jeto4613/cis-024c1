{
 "cells": [
  {
   "cell_type": "code",
   "execution_count": 1,
   "metadata": {},
   "outputs": [
    {
     "name": "stdout",
     "output_type": "stream",
     "text": [
      "5 10\n"
     ]
    }
   ],
   "source": [
    "x = 5\n",
    "y=10\n",
    "print x,y"
   ]
  },
  {
   "cell_type": "code",
   "execution_count": 2,
   "metadata": {},
   "outputs": [
    {
     "name": "stdout",
     "output_type": "stream",
     "text": [
      "30\n"
     ]
    }
   ],
   "source": [
    "x=10\n",
    "y=20\n",
    "z=x+y\n",
    "print z"
   ]
  },
  {
   "cell_type": "code",
   "execution_count": 3,
   "metadata": {},
   "outputs": [
    {
     "name": "stdout",
     "output_type": "stream",
     "text": [
      "5 6\n"
     ]
    }
   ],
   "source": [
    "a=5\n",
    "b=6\n",
    "print a,b"
   ]
  },
  {
   "cell_type": "code",
   "execution_count": 8,
   "metadata": {},
   "outputs": [
    {
     "name": "stdout",
     "output_type": "stream",
     "text": [
      "Hello Oscar\n"
     ]
    }
   ],
   "source": [
    "greeting = \"Hello\"\n",
    "person=\"Oscar\"\n",
    "print greeting, person"
   ]
  },
  {
   "cell_type": "code",
   "execution_count": 9,
   "metadata": {},
   "outputs": [
    {
     "name": "stdout",
     "output_type": "stream",
     "text": [
      "Hello, Oscar\n"
     ]
    }
   ],
   "source": [
    "greeting = \"Hello, \"\n",
    "personalGreeting=greeting+person\n",
    "print personalGreeting"
   ]
  },
  {
   "cell_type": "code",
   "execution_count": 10,
   "metadata": {},
   "outputs": [
    {
     "name": "stdout",
     "output_type": "stream",
     "text": [
      "Enter your age: 20\n"
     ]
    }
   ],
   "source": [
    "age=input(\"Enter your age: \")"
   ]
  },
  {
   "cell_type": "code",
   "execution_count": 20,
   "metadata": {},
   "outputs": [
    {
     "name": "stdout",
     "output_type": "stream",
     "text": [
      "Age is not equal to 35.\n"
     ]
    }
   ],
   "source": [
    "if age==35:\n",
    "    print \"Age is equal to 35.\"\n",
    "else:\n",
    "    print \"Age is not equal to 35.\""
   ]
  },
  {
   "cell_type": "code",
   "execution_count": 21,
   "metadata": {},
   "outputs": [
    {
     "name": "stdout",
     "output_type": "stream",
     "text": [
      "The age is less than 35.\n"
     ]
    }
   ],
   "source": [
    "if age<35:\n",
    "    print \"The age is less than 35.\"\n",
    "else:\n",
    "    print \"The age is greater than or equal to 35.\""
   ]
  },
  {
   "cell_type": "code",
   "execution_count": 26,
   "metadata": {},
   "outputs": [
    {
     "name": "stdout",
     "output_type": "stream",
     "text": [
      "2\n",
      "2\n",
      "2\n"
     ]
    }
   ],
   "source": [
    "number= int(10)\n",
    "newNumber=number/4\n",
    "print newNumber\n",
    "newIntNumber=number//4\n",
    "print newIntNumber\n",
    "newNumberMod=number%4\n",
    "print newNumberMod"
   ]
  },
  {
   "cell_type": "code",
   "execution_count": 27,
   "metadata": {},
   "outputs": [
    {
     "name": "stdout",
     "output_type": "stream",
     "text": [
      "25.3375\n",
      "25.0\n",
      "1.35\n"
     ]
    }
   ],
   "source": [
    "number= float(101.35)\n",
    "newNumber=number/4\n",
    "print newNumber\n",
    "newFloatNumber=number//4\n",
    "print newFloatNumber\n",
    "newNumberMod=number%4\n",
    "print newNumberMod"
   ]
  },
  {
   "cell_type": "code",
   "execution_count": 32,
   "metadata": {},
   "outputs": [
    {
     "name": "stdout",
     "output_type": "stream",
     "text": [
      "False\n",
      "False\n"
     ]
    }
   ],
   "source": [
    "myAge=21\n",
    "yourAge=25\n",
    "result=myAge==yourAge\n",
    "print result\n",
    "hisAge=25\n",
    "result=myAge==hisAge\n",
    "print result"
   ]
  }
 ],
 "metadata": {
  "kernelspec": {
   "display_name": "Python 2",
   "language": "python",
   "name": "python2"
  },
  "language_info": {
   "codemirror_mode": {
    "name": "ipython",
    "version": 2
   },
   "file_extension": ".py",
   "mimetype": "text/x-python",
   "name": "python",
   "nbconvert_exporter": "python",
   "pygments_lexer": "ipython2",
   "version": "2.7.13"
  }
 },
 "nbformat": 4,
 "nbformat_minor": 2
}
